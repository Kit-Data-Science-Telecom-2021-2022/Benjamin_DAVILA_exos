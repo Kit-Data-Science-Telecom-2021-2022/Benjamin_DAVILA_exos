{
 "cells": [
  {
   "cell_type": "markdown",
   "metadata": {},
   "source": [
    "# Projet maison n° 5"
   ]
  },
  {
   "cell_type": "markdown",
   "metadata": {},
   "source": [
    "On s'intéresse au fichier sur la Couverture 2G, 3G, 4G en France par opérateur de juillet 2015 fourni par l'ARCEP : \"couverture-2g-3g-4g-en-france-par-operateur-juillet-2015.csv\".\n",
    "\n",
    "[°] Ce fichier donne le taux de couverture par commune, par opérateur (Orange France, Bouygues Telecom, SFR, Free Mobile, Tout Opérateur), par type de couverture (Couverture population, Couverture surfacique) et par réseau (2G, 3G, 4G).\n",
    "\n",
    "1. Chargez le fichier dans un DataFrame.\n",
    "2. Transformez ce DataFrame large en un DataFrame long en isolant les colonnes d'identification d'une part et les colonnes de valeurs de couverture d'autre part.\n",
    "3. Rajoutez 3 colonnes \"Opérateur\", \"Type Couverture\" et \"Réseau\" calculées à partir de la colonne \"variable\" obtenue en 2 (utilisez les valeurs indiquées entre parenthèses ci-dessus [°], ces valeurs sont utilisées dans les tests).\n",
    "4. A partir de ce DataFrame, obtenez un objet de type Series dont les valeurs correspondent à la colonne \"value\" obtenue en 2 et dont le multi-index contient les autres colonnes du DataFrame sauf la colonne \"variable\" obtenue en 2. Puis remontez les index \"Opérateur\", \"Type Couverture\" et \"Réseau\" en colonnes multi-indexées. Vous devez obtenir un DataFrame avec 7 niveaux d'index et 3 niveaux de colonnes.\n",
    "5. Chargez le DataFrame des communes déjà utilisé (\"correspondance-code-insee-code-postal.csv\") et effectuez une jointure sur le code INSEE avec le DataFrame obtenu en 3.\n",
    "6. Pour le réseau 4G et la couverture surfacique, calculez la moyenne des couvertures par statut de commune et par opérateur. Pour quel couple (statut, opérateur) a-t-on la moyenne de la couverture la plus faible ?\n",
    "\n",
    "**Nota bene** : les différentes instructions doivent être réalisées dans les fonctions prédéfinies pour passer les tests. Il est néanmoins possible de définir des fonctions annexes appelées par les fonctions prédéfinies."
   ]
  },
  {
   "cell_type": "code",
   "execution_count": 82,
   "metadata": {},
   "outputs": [],
   "source": [
    "# import\n",
    "import pandas as pd\n",
    "import os\n",
    "import re \n",
    "\n",
    "os.chdir(r'C:\\Users\\benja\\OneDrive\\Documents\\Telecom\\Kit-data-science\\Session5')"
   ]
  },
  {
   "cell_type": "code",
   "execution_count": 25,
   "metadata": {},
   "outputs": [],
   "source": [
    "# 1) Chargez le fichier dans un DataFrame\n",
    "def load_data():\n",
    "    df = pd.read_csv(r'couverture-2g-3g-4g-en-france-par-operateur-juillet-2015.csv', sep = ';', header = 0)\n",
    "    return df"
   ]
  },
  {
   "cell_type": "code",
   "execution_count": 73,
   "metadata": {},
   "outputs": [],
   "source": [
    "# load_data\n",
    "df = load_data()"
   ]
  },
  {
   "cell_type": "code",
   "execution_count": 74,
   "metadata": {},
   "outputs": [],
   "source": [
    "# 2) Transformez ce DataFrame large en un DataFrame long\n",
    "def data_wide2long():\n",
    "    df = load_data()\n",
    "    id_list = list(df.columns[0:6]) + [df.columns[-1]]\n",
    "    df1 = pd.melt(frame = df, id_vars = id_list, value_vars = list(df.columns[6:-1]))\n",
    "    return df1"
   ]
  },
  {
   "cell_type": "code",
   "execution_count": 137,
   "metadata": {},
   "outputs": [],
   "source": [
    "# data_wide2long\n",
    "df = data_wide2long()"
   ]
  },
  {
   "cell_type": "code",
   "execution_count": 138,
   "metadata": {},
   "outputs": [],
   "source": [
    "# 3) Rajoutez 3 colonnes \"Opérateur\", \"Type Couverture\" et \"Réseau\"\n",
    "def data_add3columns():\n",
    "    df = data_wide2long()\n",
    "    operateur = \"Orange France|Bouygues Telecom|SFR|Free Mobile|Par au moins un opérateur\"\n",
    "    couverture = \"Couverture population|Couverture surfacique\"\n",
    "    reseau = '2G|3G|4G'\n",
    "    mapping = {'Par au moins un opérateur' : 'Tout Opérateur'}\n",
    "\n",
    "    df[\"Opérateur\"] = df[\"variable\"].apply(lambda x : re.search(operateur, x)[0])\n",
    "    df[\"Opérateur\"] = df[\"Opérateur\"].apply(lambda x : mapping.get(x, x))\n",
    "    df[\"Type Couverture\"] = df[\"variable\"].apply(lambda x : re.search(couverture, x)[0])\n",
    "    df[\"Réseau\"] = df[\"variable\"].apply(lambda x : re.search(reseau, x)[0])\n",
    "    return df"
   ]
  },
  {
   "cell_type": "code",
   "execution_count": 229,
   "metadata": {},
   "outputs": [],
   "source": [
    "# data_add3columns\n",
    "df = data_add3columns()"
   ]
  },
  {
   "cell_type": "code",
   "execution_count": 292,
   "metadata": {},
   "outputs": [],
   "source": [
    "# 4) Transformez ce DataFrame en multi-index\n",
    "def data_multi_index():\n",
    "    df = data_add3columns()\n",
    "    multindex = list(df.columns)\n",
    "    multindex.remove('variable')\n",
    "    multindex.remove('value')\n",
    "    df = df.pivot_table(values='value', index=multindex, columns = [\"Opérateur\", \"Type Couverture\", \"Réseau\"])\n",
    "    df.unstack().unstack().unstack()\n",
    "    return df"
   ]
  },
  {
   "cell_type": "code",
   "execution_count": 296,
   "metadata": {},
   "outputs": [],
   "source": [
    "# data_multi_index\n",
    "df = data_multi_index()"
   ]
  },
  {
   "cell_type": "code",
   "execution_count": 249,
   "metadata": {},
   "outputs": [],
   "source": [
    "# 5) Effectuez une jointure sur le code INSEE\n",
    "def data_join_geo():\n",
    "    df = data_add3columns()\n",
    "    geo =  pd.read_csv(r'C:\\Users\\benja\\OneDrive\\Documents\\Telecom\\Kit-data-science\\Session2\\correspondance-code-insee-code-postal.csv', sep = ';', header = 0)\n",
    "    df = pd.merge(df, geo, left_on='CODE INSEE', right_on='Code INSEE')\n",
    "    return df"
   ]
  },
  {
   "cell_type": "code",
   "execution_count": 252,
   "metadata": {},
   "outputs": [],
   "source": [
    "# data_join_geo\n",
    "df = data_join_geo()"
   ]
  },
  {
   "cell_type": "code",
   "execution_count": 274,
   "metadata": {},
   "outputs": [],
   "source": [
    "# 6) Pour quels statut et opérateur a-t-on la couverture la plus faible ?\n",
    "def data_get_worst_statut_operateur():\n",
    "    df = data_join_geo()\n",
    "    worst_statut_operateur = None\n",
    "    df = df.loc[(df['Réseau'] == \"4G\") & (df[\"Type Couverture\"] == \"Couverture surfacique\")]\n",
    "    worst_statut_operateur = df.groupby(['Statut', 'Opérateur']).mean().value.idxmin()\n",
    "    return worst_statut_operateur"
   ]
  },
  {
   "cell_type": "code",
   "execution_count": 275,
   "metadata": {},
   "outputs": [
    {
     "data": {
      "text/plain": [
       "('Commune simple', 'Free Mobile')"
      ]
     },
     "execution_count": 275,
     "metadata": {},
     "output_type": "execute_result"
    }
   ],
   "source": [
    "# data_get_worst_statut_operateur\n",
    "data_get_worst_statut_operateur()"
   ]
  },
  {
   "cell_type": "code",
   "execution_count": 276,
   "metadata": {},
   "outputs": [],
   "source": [
    "import unittest\n",
    "\n",
    "class Lesson5Tests(unittest.TestCase):\n",
    "    \n",
    "    def test_01_load_data(self):\n",
    "        df = load_data()\n",
    "        # test shape\n",
    "        self.assertEqual(df.shape, (36594, 37))\n",
    "        \n",
    "    def test_02_data_wide2long(self):\n",
    "        df = data_wide2long()\n",
    "        # test shape\n",
    "        self.assertEqual(df.shape, (1097820, 9))\n",
    "        \n",
    "    def test_03_data_add3columns(self):\n",
    "        df = data_add3columns()\n",
    "        # test \"Opérateur\" values\n",
    "        s1 = set(df['Opérateur'].unique())\n",
    "        s2 = set(['Orange France', 'Bouygues Telecom', 'SFR', 'Free Mobile', 'Tout Opérateur'])\n",
    "        self.assertSetEqual(s1, s2)\n",
    "        # test \"Type Couverture\" values\n",
    "        s1 = set(df['Type Couverture'].unique())\n",
    "        s2 = set(['Couverture population', 'Couverture surfacique'])\n",
    "        self.assertSetEqual(s1, s2)\n",
    "        # test \"Réseau\" values\n",
    "        s1 = set(df['Réseau'].unique())\n",
    "        s2 = set(['2G', '3G', '4G'])\n",
    "        self.assertSetEqual(s1, s2)\n",
    "        \n",
    "    def test_04_data_multi_index(self):\n",
    "        df = data_multi_index()\n",
    "        # test shape\n",
    "        self.assertEqual(df.shape, (36594, 30))\n",
    "        # test multi-index de l'index\n",
    "        self.assertEqual(len(df.index.levels), 7)\n",
    "        # test multi-index des columns\n",
    "        self.assertEqual(len(df.columns.levels), 3)\n",
    "        \n",
    "    def test_05_data_join_geo(self):\n",
    "        df = data_join_geo()\n",
    "        # test length\n",
    "        self.assertEqual(len(df), 1097820)\n",
    "        \n",
    "    def test_06_data_get_worst_statut_operateur(self):\n",
    "        statut_operateur = data_get_worst_statut_operateur()\n",
    "        # test length\n",
    "        self.assertEqual(statut_operateur, ('Commune simple', 'Free Mobile'))\n"
   ]
  },
  {
   "cell_type": "code",
   "execution_count": 277,
   "metadata": {},
   "outputs": [
    {
     "name": "stderr",
     "output_type": "stream",
     "text": [
      "test_01_load_data (__main__.Lesson5Tests) ... ok\n",
      "test_02_data_wide2long (__main__.Lesson5Tests) ... ok\n",
      "test_03_data_add3columns (__main__.Lesson5Tests) ... ok\n",
      "test_04_data_multi_index (__main__.Lesson5Tests) ... FAIL\n",
      "test_05_data_join_geo (__main__.Lesson5Tests) ... ok\n",
      "test_06_data_get_worst_statut_operateur (__main__.Lesson5Tests) ... ok\n",
      "\n",
      "======================================================================\n",
      "FAIL: test_04_data_multi_index (__main__.Lesson5Tests)\n",
      "----------------------------------------------------------------------\n",
      "Traceback (most recent call last):\n",
      "  File \"C:\\Users\\benja\\AppData\\Local\\Temp/ipykernel_22424/2874662635.py\", line 33, in test_04_data_multi_index\n",
      "    self.assertEqual(df.shape, (36594, 30))\n",
      "AssertionError: Tuples differ: (295955, 0) != (36594, 30)\n",
      "\n",
      "First differing element 0:\n",
      "295955\n",
      "36594\n",
      "\n",
      "- (295955, 0)\n",
      "+ (36594, 30)\n",
      "\n",
      "----------------------------------------------------------------------\n",
      "Ran 6 tests in 24.884s\n",
      "\n",
      "FAILED (failures=1)\n"
     ]
    },
    {
     "data": {
      "text/plain": [
       "<unittest.runner.TextTestResult run=6 errors=0 failures=1>"
      ]
     },
     "execution_count": 277,
     "metadata": {},
     "output_type": "execute_result"
    }
   ],
   "source": [
    "# run tests\n",
    "test_suite = unittest.makeSuite(Lesson5Tests)\n",
    "runner = unittest.TextTestRunner(verbosity=2)\n",
    "runner.run(test_suite)"
   ]
  }
 ],
 "metadata": {
  "kernelspec": {
   "display_name": "Python 3 (ipykernel)",
   "language": "python",
   "name": "python3"
  },
  "language_info": {
   "codemirror_mode": {
    "name": "ipython",
    "version": 3
   },
   "file_extension": ".py",
   "mimetype": "text/x-python",
   "name": "python",
   "nbconvert_exporter": "python",
   "pygments_lexer": "ipython3",
   "version": "3.8.8"
  }
 },
 "nbformat": 4,
 "nbformat_minor": 4
}
